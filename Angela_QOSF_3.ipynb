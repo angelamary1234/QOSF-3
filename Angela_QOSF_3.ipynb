{
 "cells": [
  {
   "cell_type": "code",
   "execution_count": 10,
   "metadata": {},
   "outputs": [],
   "source": [
    "import numpy as np\n",
    "import random\n",
    "def get_init_state(no_of_qubits):\n",
    "    init_state = [1]\n",
    "    for i in range(2**no_of_qubits-1):\n",
    "        init_state.append(0)\n",
    "    return init_state\n",
    "\n",
    "def run_circuit(init_state, circuit):\n",
    "    I = np.identity(2)\n",
    "    for operation in circuit:\n",
    "        gate = operation[\"unitary\"]\n",
    "        target = operation[\"target\"]\n",
    "        if len(target) == 1:\n",
    "            if target[0] == 0:\n",
    "                two_bit_operator = np.kron(gate, I)\n",
    "            elif target[0] == 1:\n",
    "                two_bit_operator = np.kron(I, gate)\n",
    "            init_state = np.dot(init_state, two_bit_operator)\n",
    "                \n",
    "        elif len(target) == 2:\n",
    "            init_state = np.dot(init_state, gate)\n",
    "    return init_state\n",
    "\n",
    "def measure(state_vector):\n",
    "    collapsed_state = random.choices(population=['00','01','10','11'], weights=[amplitude**2 for amplitude in state_vector] ,k=1)\n",
    "    return collapsed_state\n",
    "\n",
    "def get_result(state_vector, num_shots):\n",
    "    result = {'00':0, '01':0, '10':0, '11':0}\n",
    "    for i in range(num_shots):\n",
    "        result[measure(state_vector)[0]]+=1\n",
    "    return result"
   ]
  },
  {
   "cell_type": "code",
   "execution_count": 11,
   "metadata": {},
   "outputs": [
    {
     "name": "stdout",
     "output_type": "stream",
     "text": [
      "{'00': 503, '01': 0, '10': 0, '11': 497}\n"
     ]
    }
   ],
   "source": [
    "# Define program:\n",
    "my_circuit = [\n",
    "  { \"unitary\": [[0.70710678, 0.70710678], [0.70710678, -0.70710678]], \"target\": [0] }, \n",
    "  { \"unitary\": [ [1, 0, 0, 0], [0, 1, 0, 0], [0, 0, 0, 1], [0, 0, 1, 0] ], \"target\": [0, 1] } \n",
    "]\n",
    "\n",
    "\n",
    "# Create \"quantum computer\" with 2 qubits (this is actually just a vector :) )\n",
    "init_state = get_init_state(2)\n",
    "\n",
    "# Run circuit\n",
    "final_state = run_circuit(init_state, my_circuit)\n",
    "\n",
    "# Read results\n",
    "result = get_result(final_state, 1000)\n",
    "print(result)\n",
    "\n",
    "# Should print something like:\n",
    "# {\n",
    "#   \"00\": 502,\n",
    "#   \"11\": 498\n",
    "# }\n",
    "\n",
    "# Voila!"
   ]
  },
  {
   "cell_type": "code",
   "execution_count": null,
   "metadata": {},
   "outputs": [],
   "source": []
  }
 ],
 "metadata": {
  "kernelspec": {
   "display_name": "Python 3",
   "language": "python",
   "name": "python3"
  },
  "language_info": {
   "codemirror_mode": {
    "name": "ipython",
    "version": 3
   },
   "file_extension": ".py",
   "mimetype": "text/x-python",
   "name": "python",
   "nbconvert_exporter": "python",
   "pygments_lexer": "ipython3",
   "version": "3.8.5"
  }
 },
 "nbformat": 4,
 "nbformat_minor": 4
}
